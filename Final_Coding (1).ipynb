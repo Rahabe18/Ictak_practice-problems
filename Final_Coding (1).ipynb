{
  "nbformat": 4,
  "nbformat_minor": 0,
  "metadata": {
    "colab": {
      "provenance": []
    },
    "kernelspec": {
      "name": "python3",
      "display_name": "Python 3"
    },
    "language_info": {
      "name": "python"
    }
  },
  "cells": [
    {
      "cell_type": "markdown",
      "source": [
        "# Emotion Detection in Twitter Data using NLP Techniques\n",
        "---\n",
        "---\n",
        "You have been given with a dataset of Twitter posts (tweets) that are labelled with specific emotions.\n",
        "- Your objective is to develop a model that can accurately classify these tweets into different emotion categories such as :\n",
        "  - joy,\n",
        "  - sadness,\n",
        "  - anger,\n",
        "  - fear,\n",
        "  - surprise etc.\n",
        "\n",
        "To achieve this, follow the steps outlined below:\n",
        "- Data Preprocessing\n",
        "- FeatureExtraction\n",
        "- ModelBuilding and Evaluation (Create different models, including deep learning models)\n",
        "- Evaluate the Model's Performance\n",
        "\n",
        "---\n",
        "    \n",
        "- Data Preprocessing\n",
        "\n",
        "  ● Cleaning the dataset, handling missing values, and preparing the data for analysis.\n",
        "\n",
        "- Feature Extraction\n",
        "\n",
        "  ● Use techniques used for transforming the raw text data into numerical features that can be used by machine learning models.\n",
        "\n",
        "- Model Building and Evaluation\n",
        "\n",
        "  ● Detail the construction and training of various models, including traditional machine learning models and deep learning models.\n",
        "\n",
        "● Include the code and explanation for each model.\n",
        "\n",
        "- Evaluate the Model's Performance\n",
        "\n",
        "- Present the results and compare the performance of different models."
      ],
      "metadata": {
        "id": "xK_kxkTBV4YU"
      }
    },
    {
      "cell_type": "markdown",
      "source": [
        "#1. Data Preprocessing\n",
        "---"
      ],
      "metadata": {
        "id": "TbFwTffpZv6z"
      }
    },
    {
      "cell_type": "code",
      "execution_count": null,
      "metadata": {
        "id": "iuXOo1LkVPwI"
      },
      "outputs": [],
      "source": [
        "# Import libraries\n",
        "#------------------\n",
        "import pandas as pd\n",
        "import numpy as np\n",
        "import matplotlib.pyplot as plt\n",
        "import seaborn as sns"
      ]
    },
    {
      "cell_type": "code",
      "source": [
        "# Load the dataset\n",
        "#---------------------\n",
        "df = pd.read_csv('/content/tweet_emotions.csv')"
      ],
      "metadata": {
        "id": "W5WFDONxZ_J0"
      },
      "execution_count": null,
      "outputs": []
    },
    {
      "cell_type": "code",
      "source": [
        "# Display the first few rows\n",
        "#--------------------\n",
        "print(df.head())"
      ],
      "metadata": {
        "colab": {
          "base_uri": "https://localhost:8080/"
        },
        "id": "GWxcCkpSaHol",
        "outputId": "4d1a7bfb-c878-47c3-fc04-ed0e310ea78b"
      },
      "execution_count": null,
      "outputs": [
        {
          "output_type": "stream",
          "name": "stdout",
          "text": [
            "     tweet_id   sentiment                                            content\n",
            "0  1956967341       empty  @tiffanylue i know  i was listenin to bad habi...\n",
            "1  1956967666     sadness  Layin n bed with a headache  ughhhh...waitin o...\n",
            "2  1956967696     sadness                Funeral ceremony...gloomy friday...\n",
            "3  1956967789  enthusiasm               wants to hang out with friends SOON!\n",
            "4  1956968416     neutral  @dannycastillo We want to trade with someone w...\n"
          ]
        }
      ]
    },
    {
      "cell_type": "code",
      "source": [
        "# Check for missing values\n",
        "#-------------------------------------------\n",
        "print(df.isnull().sum())"
      ],
      "metadata": {
        "colab": {
          "base_uri": "https://localhost:8080/"
        },
        "id": "O_OgnEUvaNby",
        "outputId": "fd588991-924c-41d5-c536-7db1b1d96d10"
      },
      "execution_count": null,
      "outputs": [
        {
          "output_type": "stream",
          "name": "stdout",
          "text": [
            "tweet_id     0\n",
            "sentiment    0\n",
            "content      0\n",
            "dtype: int64\n"
          ]
        }
      ]
    },
    {
      "cell_type": "markdown",
      "source": [
        "###No missing values found"
      ],
      "metadata": {
        "id": "sdmvlnKKaVkK"
      }
    },
    {
      "cell_type": "code",
      "source": [
        "#Statistical analysis of the dataset\n",
        "#-------------------------------------\n",
        "df.describe()"
      ],
      "metadata": {
        "colab": {
          "base_uri": "https://localhost:8080/",
          "height": 300
        },
        "id": "50y5j9x8aTst",
        "outputId": "ba2b8b32-139d-4071-f09b-c8cb8ba7d132"
      },
      "execution_count": null,
      "outputs": [
        {
          "output_type": "execute_result",
          "data": {
            "text/plain": [
              "           tweet_id\n",
              "count  4.000000e+04\n",
              "mean   1.845184e+09\n",
              "std    1.188579e+08\n",
              "min    1.693956e+09\n",
              "25%    1.751431e+09\n",
              "50%    1.855443e+09\n",
              "75%    1.962781e+09\n",
              "max    1.966441e+09"
            ],
            "text/html": [
              "\n",
              "  <div id=\"df-e65cf8e7-8614-4735-9b08-bd6d0be902f2\" class=\"colab-df-container\">\n",
              "    <div>\n",
              "<style scoped>\n",
              "    .dataframe tbody tr th:only-of-type {\n",
              "        vertical-align: middle;\n",
              "    }\n",
              "\n",
              "    .dataframe tbody tr th {\n",
              "        vertical-align: top;\n",
              "    }\n",
              "\n",
              "    .dataframe thead th {\n",
              "        text-align: right;\n",
              "    }\n",
              "</style>\n",
              "<table border=\"1\" class=\"dataframe\">\n",
              "  <thead>\n",
              "    <tr style=\"text-align: right;\">\n",
              "      <th></th>\n",
              "      <th>tweet_id</th>\n",
              "    </tr>\n",
              "  </thead>\n",
              "  <tbody>\n",
              "    <tr>\n",
              "      <th>count</th>\n",
              "      <td>4.000000e+04</td>\n",
              "    </tr>\n",
              "    <tr>\n",
              "      <th>mean</th>\n",
              "      <td>1.845184e+09</td>\n",
              "    </tr>\n",
              "    <tr>\n",
              "      <th>std</th>\n",
              "      <td>1.188579e+08</td>\n",
              "    </tr>\n",
              "    <tr>\n",
              "      <th>min</th>\n",
              "      <td>1.693956e+09</td>\n",
              "    </tr>\n",
              "    <tr>\n",
              "      <th>25%</th>\n",
              "      <td>1.751431e+09</td>\n",
              "    </tr>\n",
              "    <tr>\n",
              "      <th>50%</th>\n",
              "      <td>1.855443e+09</td>\n",
              "    </tr>\n",
              "    <tr>\n",
              "      <th>75%</th>\n",
              "      <td>1.962781e+09</td>\n",
              "    </tr>\n",
              "    <tr>\n",
              "      <th>max</th>\n",
              "      <td>1.966441e+09</td>\n",
              "    </tr>\n",
              "  </tbody>\n",
              "</table>\n",
              "</div>\n",
              "    <div class=\"colab-df-buttons\">\n",
              "\n",
              "  <div class=\"colab-df-container\">\n",
              "    <button class=\"colab-df-convert\" onclick=\"convertToInteractive('df-e65cf8e7-8614-4735-9b08-bd6d0be902f2')\"\n",
              "            title=\"Convert this dataframe to an interactive table.\"\n",
              "            style=\"display:none;\">\n",
              "\n",
              "  <svg xmlns=\"http://www.w3.org/2000/svg\" height=\"24px\" viewBox=\"0 -960 960 960\">\n",
              "    <path d=\"M120-120v-720h720v720H120Zm60-500h600v-160H180v160Zm220 220h160v-160H400v160Zm0 220h160v-160H400v160ZM180-400h160v-160H180v160Zm440 0h160v-160H620v160ZM180-180h160v-160H180v160Zm440 0h160v-160H620v160Z\"/>\n",
              "  </svg>\n",
              "    </button>\n",
              "\n",
              "  <style>\n",
              "    .colab-df-container {\n",
              "      display:flex;\n",
              "      gap: 12px;\n",
              "    }\n",
              "\n",
              "    .colab-df-convert {\n",
              "      background-color: #E8F0FE;\n",
              "      border: none;\n",
              "      border-radius: 50%;\n",
              "      cursor: pointer;\n",
              "      display: none;\n",
              "      fill: #1967D2;\n",
              "      height: 32px;\n",
              "      padding: 0 0 0 0;\n",
              "      width: 32px;\n",
              "    }\n",
              "\n",
              "    .colab-df-convert:hover {\n",
              "      background-color: #E2EBFA;\n",
              "      box-shadow: 0px 1px 2px rgba(60, 64, 67, 0.3), 0px 1px 3px 1px rgba(60, 64, 67, 0.15);\n",
              "      fill: #174EA6;\n",
              "    }\n",
              "\n",
              "    .colab-df-buttons div {\n",
              "      margin-bottom: 4px;\n",
              "    }\n",
              "\n",
              "    [theme=dark] .colab-df-convert {\n",
              "      background-color: #3B4455;\n",
              "      fill: #D2E3FC;\n",
              "    }\n",
              "\n",
              "    [theme=dark] .colab-df-convert:hover {\n",
              "      background-color: #434B5C;\n",
              "      box-shadow: 0px 1px 3px 1px rgba(0, 0, 0, 0.15);\n",
              "      filter: drop-shadow(0px 1px 2px rgba(0, 0, 0, 0.3));\n",
              "      fill: #FFFFFF;\n",
              "    }\n",
              "  </style>\n",
              "\n",
              "    <script>\n",
              "      const buttonEl =\n",
              "        document.querySelector('#df-e65cf8e7-8614-4735-9b08-bd6d0be902f2 button.colab-df-convert');\n",
              "      buttonEl.style.display =\n",
              "        google.colab.kernel.accessAllowed ? 'block' : 'none';\n",
              "\n",
              "      async function convertToInteractive(key) {\n",
              "        const element = document.querySelector('#df-e65cf8e7-8614-4735-9b08-bd6d0be902f2');\n",
              "        const dataTable =\n",
              "          await google.colab.kernel.invokeFunction('convertToInteractive',\n",
              "                                                    [key], {});\n",
              "        if (!dataTable) return;\n",
              "\n",
              "        const docLinkHtml = 'Like what you see? Visit the ' +\n",
              "          '<a target=\"_blank\" href=https://colab.research.google.com/notebooks/data_table.ipynb>data table notebook</a>'\n",
              "          + ' to learn more about interactive tables.';\n",
              "        element.innerHTML = '';\n",
              "        dataTable['output_type'] = 'display_data';\n",
              "        await google.colab.output.renderOutput(dataTable, element);\n",
              "        const docLink = document.createElement('div');\n",
              "        docLink.innerHTML = docLinkHtml;\n",
              "        element.appendChild(docLink);\n",
              "      }\n",
              "    </script>\n",
              "  </div>\n",
              "\n",
              "\n",
              "    <div id=\"df-41f6d596-d504-40fa-8cb3-ec74aa04105d\">\n",
              "      <button class=\"colab-df-quickchart\" onclick=\"quickchart('df-41f6d596-d504-40fa-8cb3-ec74aa04105d')\"\n",
              "                title=\"Suggest charts\"\n",
              "                style=\"display:none;\">\n",
              "\n",
              "<svg xmlns=\"http://www.w3.org/2000/svg\" height=\"24px\"viewBox=\"0 0 24 24\"\n",
              "     width=\"24px\">\n",
              "    <g>\n",
              "        <path d=\"M19 3H5c-1.1 0-2 .9-2 2v14c0 1.1.9 2 2 2h14c1.1 0 2-.9 2-2V5c0-1.1-.9-2-2-2zM9 17H7v-7h2v7zm4 0h-2V7h2v10zm4 0h-2v-4h2v4z\"/>\n",
              "    </g>\n",
              "</svg>\n",
              "      </button>\n",
              "\n",
              "<style>\n",
              "  .colab-df-quickchart {\n",
              "      --bg-color: #E8F0FE;\n",
              "      --fill-color: #1967D2;\n",
              "      --hover-bg-color: #E2EBFA;\n",
              "      --hover-fill-color: #174EA6;\n",
              "      --disabled-fill-color: #AAA;\n",
              "      --disabled-bg-color: #DDD;\n",
              "  }\n",
              "\n",
              "  [theme=dark] .colab-df-quickchart {\n",
              "      --bg-color: #3B4455;\n",
              "      --fill-color: #D2E3FC;\n",
              "      --hover-bg-color: #434B5C;\n",
              "      --hover-fill-color: #FFFFFF;\n",
              "      --disabled-bg-color: #3B4455;\n",
              "      --disabled-fill-color: #666;\n",
              "  }\n",
              "\n",
              "  .colab-df-quickchart {\n",
              "    background-color: var(--bg-color);\n",
              "    border: none;\n",
              "    border-radius: 50%;\n",
              "    cursor: pointer;\n",
              "    display: none;\n",
              "    fill: var(--fill-color);\n",
              "    height: 32px;\n",
              "    padding: 0;\n",
              "    width: 32px;\n",
              "  }\n",
              "\n",
              "  .colab-df-quickchart:hover {\n",
              "    background-color: var(--hover-bg-color);\n",
              "    box-shadow: 0 1px 2px rgba(60, 64, 67, 0.3), 0 1px 3px 1px rgba(60, 64, 67, 0.15);\n",
              "    fill: var(--button-hover-fill-color);\n",
              "  }\n",
              "\n",
              "  .colab-df-quickchart-complete:disabled,\n",
              "  .colab-df-quickchart-complete:disabled:hover {\n",
              "    background-color: var(--disabled-bg-color);\n",
              "    fill: var(--disabled-fill-color);\n",
              "    box-shadow: none;\n",
              "  }\n",
              "\n",
              "  .colab-df-spinner {\n",
              "    border: 2px solid var(--fill-color);\n",
              "    border-color: transparent;\n",
              "    border-bottom-color: var(--fill-color);\n",
              "    animation:\n",
              "      spin 1s steps(1) infinite;\n",
              "  }\n",
              "\n",
              "  @keyframes spin {\n",
              "    0% {\n",
              "      border-color: transparent;\n",
              "      border-bottom-color: var(--fill-color);\n",
              "      border-left-color: var(--fill-color);\n",
              "    }\n",
              "    20% {\n",
              "      border-color: transparent;\n",
              "      border-left-color: var(--fill-color);\n",
              "      border-top-color: var(--fill-color);\n",
              "    }\n",
              "    30% {\n",
              "      border-color: transparent;\n",
              "      border-left-color: var(--fill-color);\n",
              "      border-top-color: var(--fill-color);\n",
              "      border-right-color: var(--fill-color);\n",
              "    }\n",
              "    40% {\n",
              "      border-color: transparent;\n",
              "      border-right-color: var(--fill-color);\n",
              "      border-top-color: var(--fill-color);\n",
              "    }\n",
              "    60% {\n",
              "      border-color: transparent;\n",
              "      border-right-color: var(--fill-color);\n",
              "    }\n",
              "    80% {\n",
              "      border-color: transparent;\n",
              "      border-right-color: var(--fill-color);\n",
              "      border-bottom-color: var(--fill-color);\n",
              "    }\n",
              "    90% {\n",
              "      border-color: transparent;\n",
              "      border-bottom-color: var(--fill-color);\n",
              "    }\n",
              "  }\n",
              "</style>\n",
              "\n",
              "      <script>\n",
              "        async function quickchart(key) {\n",
              "          const quickchartButtonEl =\n",
              "            document.querySelector('#' + key + ' button');\n",
              "          quickchartButtonEl.disabled = true;  // To prevent multiple clicks.\n",
              "          quickchartButtonEl.classList.add('colab-df-spinner');\n",
              "          try {\n",
              "            const charts = await google.colab.kernel.invokeFunction(\n",
              "                'suggestCharts', [key], {});\n",
              "          } catch (error) {\n",
              "            console.error('Error during call to suggestCharts:', error);\n",
              "          }\n",
              "          quickchartButtonEl.classList.remove('colab-df-spinner');\n",
              "          quickchartButtonEl.classList.add('colab-df-quickchart-complete');\n",
              "        }\n",
              "        (() => {\n",
              "          let quickchartButtonEl =\n",
              "            document.querySelector('#df-41f6d596-d504-40fa-8cb3-ec74aa04105d button');\n",
              "          quickchartButtonEl.style.display =\n",
              "            google.colab.kernel.accessAllowed ? 'block' : 'none';\n",
              "        })();\n",
              "      </script>\n",
              "    </div>\n",
              "\n",
              "    </div>\n",
              "  </div>\n"
            ],
            "application/vnd.google.colaboratory.intrinsic+json": {
              "type": "dataframe",
              "summary": "{\n  \"name\": \"df\",\n  \"rows\": 8,\n  \"fields\": [\n    {\n      \"column\": \"tweet_id\",\n      \"properties\": {\n        \"dtype\": \"number\",\n        \"std\": 832750889.020535,\n        \"min\": 40000.0,\n        \"max\": 1966441171.0,\n        \"num_unique_values\": 8,\n        \"samples\": [\n          1845183995.1773,\n          1855443195.0,\n          40000.0\n        ],\n        \"semantic_type\": \"\",\n        \"description\": \"\"\n      }\n    }\n  ]\n}"
            }
          },
          "metadata": {},
          "execution_count": 5
        }
      ]
    },
    {
      "cell_type": "code",
      "source": [
        "#Complete information of the dataset\n",
        "#-------------------------------------\n",
        "df.info()"
      ],
      "metadata": {
        "colab": {
          "base_uri": "https://localhost:8080/"
        },
        "id": "rvAaJATHa1O9",
        "outputId": "ac7ca602-b103-4c89-abf7-4c3fbde09c57"
      },
      "execution_count": null,
      "outputs": [
        {
          "output_type": "stream",
          "name": "stdout",
          "text": [
            "<class 'pandas.core.frame.DataFrame'>\n",
            "RangeIndex: 40000 entries, 0 to 39999\n",
            "Data columns (total 3 columns):\n",
            " #   Column     Non-Null Count  Dtype \n",
            "---  ------     --------------  ----- \n",
            " 0   tweet_id   40000 non-null  int64 \n",
            " 1   sentiment  40000 non-null  object\n",
            " 2   content    40000 non-null  object\n",
            "dtypes: int64(1), object(2)\n",
            "memory usage: 937.6+ KB\n"
          ]
        }
      ]
    },
    {
      "cell_type": "markdown",
      "source": [
        "###There are 2 categorical columns ['sentiment','content'] and 1 numerical column in the dataset ['tweet_id']"
      ],
      "metadata": {
        "id": "ePeC8C-pa-bH"
      }
    },
    {
      "cell_type": "code",
      "source": [
        "#Shape of the dataset\n",
        "print(df.shape)\n",
        "#Dimension of the dataset\n",
        "print(df.ndim)\n",
        "print(df.size)"
      ],
      "metadata": {
        "colab": {
          "base_uri": "https://localhost:8080/"
        },
        "id": "86CHYF3abktj",
        "outputId": "e2cfb76e-5112-4af2-f412-6e53ca49328b"
      },
      "execution_count": null,
      "outputs": [
        {
          "output_type": "stream",
          "name": "stdout",
          "text": [
            "(40000, 3)\n",
            "2\n",
            "120000\n"
          ]
        }
      ]
    },
    {
      "cell_type": "code",
      "source": [
        "#Drop duplicates\n",
        "#-----------------\n",
        "df.drop_duplicates(subset=['content'], inplace=True)"
      ],
      "metadata": {
        "id": "NRonLZutapf1"
      },
      "execution_count": null,
      "outputs": []
    },
    {
      "cell_type": "code",
      "source": [
        "#Remove rows where text or label is missing\n",
        "#-----------------------------------------------\n",
        "df.dropna(subset=['content','tweet_id','sentiment'],inplace=True)"
      ],
      "metadata": {
        "id": "_kOB8qUdbyCi"
      },
      "execution_count": null,
      "outputs": []
    },
    {
      "cell_type": "code",
      "source": [
        "#shape of datset after removing duplicates\n",
        "#-------------------------------------------\n",
        "print(df.shape)"
      ],
      "metadata": {
        "colab": {
          "base_uri": "https://localhost:8080/"
        },
        "id": "YnY-Urf8csw8",
        "outputId": "8d2c453a-bd66-4d26-f9ad-967695b11fed"
      },
      "execution_count": null,
      "outputs": [
        {
          "output_type": "stream",
          "name": "stdout",
          "text": [
            "(39827, 3)\n"
          ]
        }
      ]
    },
    {
      "cell_type": "code",
      "source": [
        "#Simple text pre-processing\n",
        "#--------------------------------\n",
        "import re #import regular expression library\n",
        "\n",
        "def cleaned_text(text):\n",
        "  text = re.sub(r'[^a-zA-Z\\s]','',text) # remove special characters and numbers\n",
        "  text = text.lower() # convert to lower case\n",
        "  text = re.sub(r'\\s+','',text).strip()#remove whitespaces\n",
        "  return text"
      ],
      "metadata": {
        "id": "Y1w0fg62cvzh"
      },
      "execution_count": null,
      "outputs": []
    },
    {
      "cell_type": "code",
      "source": [
        "df['cleaned_content'] = df['content'].apply(cleaned_text)\n",
        "print(\"\\n Cleaned text\")\n",
        "print(\"*\"*(len('cleaned_content')))\n",
        "print(df[['content','cleaned_content','sentiment']].head())"
      ],
      "metadata": {
        "colab": {
          "base_uri": "https://localhost:8080/"
        },
        "id": "9Ht8_-Mqeb3z",
        "outputId": "aecb8356-5955-48af-a699-e359ddb9f2f8"
      },
      "execution_count": null,
      "outputs": [
        {
          "output_type": "stream",
          "name": "stdout",
          "text": [
            "\n",
            " Cleaned text\n",
            "***************\n",
            "                                             content  \\\n",
            "0  @tiffanylue i know  i was listenin to bad habi...   \n",
            "1  Layin n bed with a headache  ughhhh...waitin o...   \n",
            "2                Funeral ceremony...gloomy friday...   \n",
            "3               wants to hang out with friends SOON!   \n",
            "4  @dannycastillo We want to trade with someone w...   \n",
            "\n",
            "                                     cleaned_content   sentiment  \n",
            "0  tiffanylueiknowiwaslistenintobadhabitearlieran...       empty  \n",
            "1       layinnbedwithaheadacheughhhhwaitinonyourcall     sadness  \n",
            "2                        funeralceremonygloomyfriday     sadness  \n",
            "3                      wantstohangoutwithfriendssoon  enthusiasm  \n",
            "4  dannycastillowewanttotradewithsomeonewhohashou...     neutral  \n"
          ]
        }
      ]
    },
    {
      "cell_type": "code",
      "source": [
        "#Rows after preprocessing\n",
        "#------------------------------\n",
        "print(\"Rows after preprocessing:\", len(df))\n",
        "print(df.head())"
      ],
      "metadata": {
        "colab": {
          "base_uri": "https://localhost:8080/"
        },
        "id": "Z-OZsOQ-jdG6",
        "outputId": "84e0b357-ae5e-417a-bce3-b3c62ac04eab"
      },
      "execution_count": null,
      "outputs": [
        {
          "output_type": "stream",
          "name": "stdout",
          "text": [
            "Rows after preprocessing: 39827\n",
            "     tweet_id   sentiment                                            content  \\\n",
            "0  1956967341       empty  @tiffanylue i know  i was listenin to bad habi...   \n",
            "1  1956967666     sadness  Layin n bed with a headache  ughhhh...waitin o...   \n",
            "2  1956967696     sadness                Funeral ceremony...gloomy friday...   \n",
            "3  1956967789  enthusiasm               wants to hang out with friends SOON!   \n",
            "4  1956968416     neutral  @dannycastillo We want to trade with someone w...   \n",
            "\n",
            "                                     cleaned_content  \n",
            "0  tiffanylueiknowiwaslistenintobadhabitearlieran...  \n",
            "1       layinnbedwithaheadacheughhhhwaitinonyourcall  \n",
            "2                        funeralceremonygloomyfriday  \n",
            "3                      wantstohangoutwithfriendssoon  \n",
            "4  dannycastillowewanttotradewithsomeonewhohashou...  \n"
          ]
        }
      ]
    },
    {
      "cell_type": "markdown",
      "source": [
        "#2. Feature Extraction\n",
        "---\n",
        "Transforming the raw text data into numerical features that can be used by machine learning models-using TF-IDF"
      ],
      "metadata": {
        "id": "X3IoBLwYfohf"
      }
    },
    {
      "cell_type": "code",
      "source": [
        "#Import libraries\n",
        "#----------------------\n",
        "from sklearn.feature_extraction.text import TfidfVectorizer\n",
        "X_text = df['cleaned_content']\n",
        "y = df['sentiment']"
      ],
      "metadata": {
        "id": "ZZSkQkCQfGdd"
      },
      "execution_count": null,
      "outputs": []
    },
    {
      "cell_type": "code",
      "source": [
        "#Using TF-IDF\n",
        "#--------------\n",
        "tfidf_vector = TfidfVectorizer(max_features=5000,ngram_range=(1,2),stop_words='english')\n",
        "X_tfidf = tfidf_vector.fit_transform(X_text)"
      ],
      "metadata": {
        "id": "nWlbH47sk2K8"
      },
      "execution_count": null,
      "outputs": []
    },
    {
      "cell_type": "code",
      "source": [
        "#Fit and transform\n",
        "#-------------------\n",
        "X_tfidf = tfidf_vector.fit_transform(X_text)\n",
        "print(\"After vectorization:\",X_tfidf.shape)"
      ],
      "metadata": {
        "colab": {
          "base_uri": "https://localhost:8080/"
        },
        "id": "VCX3AUOTl4YU",
        "outputId": "683d1c91-ddb0-486a-c328-f51016d9c7d6"
      },
      "execution_count": null,
      "outputs": [
        {
          "output_type": "stream",
          "name": "stdout",
          "text": [
            "After vectorization: (39827, 5000)\n"
          ]
        }
      ]
    },
    {
      "cell_type": "markdown",
      "source": [
        "#3. Model Building and Evaluation\n",
        "---"
      ],
      "metadata": {
        "id": "ZjHRU2GHmc9D"
      }
    },
    {
      "cell_type": "code",
      "source": [
        "#Splitting the data into 70% traing data/15% validation data and 15% testing data\n",
        "#-----------------------\n",
        "import numpy as np\n",
        "from sklearn.model_selection import train_test_split\n",
        "import matplotlib.pyplot as plt\n",
        "from sklearn.metrics import accuracy_score,f1_score, classification_report, confusion_matrix, ConfusionMatrixDisplay\n",
        "X_train,X_temp,y_train,y_temp = train_test_split(X_tfidf,y,test_size=0.3,stratify=y,random_state=42)\n",
        "X_valid,X_test,y_valid,y_test = train_test_split(X_temp,y_temp,test_size=0.5,stratify= y_temp,random_state=42)\n",
        "\n",
        "print(f\"Train data shape: {X_train.shape}\")\n",
        "print(f\"Validation data shape: {X_valid.shape}\")\n",
        "print(f\"Test data shape: {X_test.shape}\")"
      ],
      "metadata": {
        "colab": {
          "base_uri": "https://localhost:8080/"
        },
        "id": "xU87qmxcmTFO",
        "outputId": "21ce9f0a-f3f8-4222-87f7-52c1d562fd66"
      },
      "execution_count": null,
      "outputs": [
        {
          "output_type": "stream",
          "name": "stdout",
          "text": [
            "Train data shape: (27878, 5000)\n",
            "Validation data shape: (5974, 5000)\n",
            "Test data shape: (5975, 5000)\n"
          ]
        }
      ]
    },
    {
      "cell_type": "code",
      "source": [
        "#Fit on training data\n",
        "#Performance Evaluation on validation data using Accuracy, Macro-F1, and a classification report\n",
        "#----------------------------------------------------------------------------\n",
        "def evaluate_model(model,Xtr,ytr,Xva,yva,title=''):\n",
        "  #Fit the model on (Xtr,ytr) and evaluate on(Xva,yva)\n",
        "  model.fit(Xtr,ytr)\n",
        "  y_predicted = model.predict(Xva)\n",
        "\n",
        "  accuracy = accuracy_score(yva,y_predicted)\n",
        "  f1_macro = f1_score(yva,y_predicted,average='macro')\n",
        "  print(f\"\\n---Validation results for {title}---\")\n",
        "\n",
        "  print(f\"Accuracy:{accuracy}\")\n",
        "  print(f\"Macro-F1:{f1_macro}\")\n",
        "  print(classification_report(yva,y_predicted))\n",
        "  print(confusion_matrix(yva,y_predicted))\n",
        "\n",
        "  return accuracy,f1_macro,y_predicted"
      ],
      "metadata": {
        "id": "XrErto6EpAwU"
      },
      "execution_count": null,
      "outputs": []
    },
    {
      "cell_type": "code",
      "source": [
        "#Refit on training datamand evaluating on testing data using accuracy,macro,classification report\n",
        "#----------------------------------------------------------\n",
        "def final_evaluation(model,Xtr,ytr,Xte,yte,title=''):\n",
        "  model.fit(Xtr,ytr)\n",
        "  y_predicted = model.predict(Xte)\n",
        "\n",
        "  accuracy = accuracy_score(yte,y_predicted)\n",
        "  f1_macro = f1_score(yte,y_predicted,average='macro')\n",
        "\n",
        "  print(f\"\\n=======Final Test Results for {title}=========\")\n",
        "  print(f\"Accuracy:{accuracy}\")\n",
        "  print(f\"Macro-F1:{f1_macro}\")\n",
        "  print(classification_report(yte,y_predicted))\n",
        "  print(confusion_matrix(yte,y_predicted))\n",
        "\n",
        "  fig,ax = plt.subplots()\n",
        "  ConfusionMatrixDisplay.from_predictions(yte,y_predicted,ax=ax)\n",
        "  ax.set_title(f\"Confusion matrix-{title}\")\n",
        "  plt.tight_layout()\n",
        "  plt.show()\n",
        "\n",
        "  return accuracy,f1_macro,y_predicted\n",
        "\n"
      ],
      "metadata": {
        "id": "hiitiMOPtA_8"
      },
      "execution_count": null,
      "outputs": []
    },
    {
      "cell_type": "markdown",
      "source": [
        "##3.1 Traditional Model-SVC (Support Vector Classifier)"
      ],
      "metadata": {
        "id": "OV1yM8phy3yn"
      }
    },
    {
      "cell_type": "code",
      "source": [
        "from sklearn.svm import LinearSVC #import libraries\n",
        "\n",
        "svc_model = LinearSVC(class_weight=\"balanced\")\n",
        "#Evaluation\n",
        "svc_val_acc, svc_val_f1, _ = evaluate_model(svc_model, X_train, y_train, X_valid, y_valid, \"LinearSVC\")\n",
        "\n",
        "#Final test evaluation\n",
        "final_evaluation(svc_model, X_train, y_train, X_test, y_test, \"LinearSVC\")"
      ],
      "metadata": {
        "colab": {
          "base_uri": "https://localhost:8080/",
          "height": 1000
        },
        "id": "7hqwq0n7vuxq",
        "outputId": "0c18f8e1-c841-447e-8876-3eee545a47c6"
      },
      "execution_count": null,
      "outputs": [
        {
          "output_type": "stream",
          "name": "stdout",
          "text": [
            "\n",
            "---Validation results for LinearSVC---\n",
            "Accuracy:0.213759625041848\n",
            "Macro-F1:0.030018726798724357\n",
            "              precision    recall  f1-score   support\n",
            "\n",
            "       anger       0.00      0.00      0.00        17\n",
            "     boredom       0.00      0.00      0.00        27\n",
            "       empty       0.00      0.00      0.00       124\n",
            "  enthusiasm       0.00      0.00      0.00       114\n",
            "         fun       0.00      0.00      0.00       266\n",
            "   happiness       0.56      0.01      0.01       777\n",
            "        hate       0.00      0.00      0.00       198\n",
            "        love       0.56      0.01      0.02       568\n",
            "     neutral       0.33      0.00      0.00      1290\n",
            "      relief       0.00      0.00      0.00       228\n",
            "     sadness       1.00      0.00      0.01       773\n",
            "    surprise       0.00      0.00      0.00       327\n",
            "       worry       0.21      1.00      0.35      1265\n",
            "\n",
            "    accuracy                           0.21      5974\n",
            "   macro avg       0.20      0.08      0.03      5974\n",
            "weighted avg       0.37      0.21      0.08      5974\n",
            "\n",
            "[[   0    0    0    0    0    0    0    0    0    0    0    0   17]\n",
            " [   0    0    0    0    0    0    0    0    0    0    0    0   27]\n",
            " [   0    0    0    0    0    0    0    0    0    0    0    0  124]\n",
            " [   0    0    0    0    0    0    0    0    0    0    0    0  114]\n",
            " [   0    0    0    0    0    1    0    0    0    0    0    0  265]\n",
            " [   0    0    0    0    1    5    0    2    0    0    0    0  769]\n",
            " [   0    0    0    0    0    0    0    0    0    0    0    0  198]\n",
            " [   0    0    0    0    0    1    0    5    3    0    0    0  559]\n",
            " [   0    0    2    1    0    1    0    1    3    0    0    0 1282]\n",
            " [   0    0    0    0    0    0    0    0    0    0    0    0  228]\n",
            " [   0    0    0    0    0    1    0    0    2    0    2    0  768]\n",
            " [   0    0    0    0    0    0    0    1    1    0    0    0  325]\n",
            " [   0    0    0    2    0    0    0    0    0    1    0    0 1262]]\n"
          ]
        },
        {
          "output_type": "stream",
          "name": "stderr",
          "text": [
            "/usr/local/lib/python3.12/dist-packages/sklearn/metrics/_classification.py:1565: UndefinedMetricWarning: Precision is ill-defined and being set to 0.0 in labels with no predicted samples. Use `zero_division` parameter to control this behavior.\n",
            "  _warn_prf(average, modifier, f\"{metric.capitalize()} is\", len(result))\n",
            "/usr/local/lib/python3.12/dist-packages/sklearn/metrics/_classification.py:1565: UndefinedMetricWarning: Precision is ill-defined and being set to 0.0 in labels with no predicted samples. Use `zero_division` parameter to control this behavior.\n",
            "  _warn_prf(average, modifier, f\"{metric.capitalize()} is\", len(result))\n",
            "/usr/local/lib/python3.12/dist-packages/sklearn/metrics/_classification.py:1565: UndefinedMetricWarning: Precision is ill-defined and being set to 0.0 in labels with no predicted samples. Use `zero_division` parameter to control this behavior.\n",
            "  _warn_prf(average, modifier, f\"{metric.capitalize()} is\", len(result))\n"
          ]
        },
        {
          "output_type": "stream",
          "name": "stdout",
          "text": [
            "\n",
            "=======Final Test Results for LinearSVC=========\n",
            "Accuracy:0.21405857740585774\n",
            "Macro-F1:0.030503889153953842\n",
            "              precision    recall  f1-score   support\n",
            "\n",
            "       anger       0.00      0.00      0.00        16\n",
            "     boredom       0.00      0.00      0.00        27\n",
            "       empty       0.00      0.00      0.00       123\n",
            "  enthusiasm       0.00      0.00      0.00       113\n",
            "         fun       0.00      0.00      0.00       266\n",
            "   happiness       0.57      0.01      0.01       778\n",
            "        hate       0.00      0.00      0.00       199\n",
            "        love       0.57      0.01      0.03       568\n",
            "     neutral       0.67      0.00      0.01      1290\n",
            "      relief       0.00      0.00      0.00       229\n",
            "     sadness       0.33      0.00      0.00       773\n",
            "    surprise       0.00      0.00      0.00       327\n",
            "       worry       0.21      1.00      0.35      1266\n",
            "\n",
            "    accuracy                           0.21      5975\n",
            "   macro avg       0.18      0.08      0.03      5975\n",
            "weighted avg       0.36      0.21      0.08      5975\n",
            "\n",
            "[[   0    0    0    0    0    0    0    0    0    0    0    0   16]\n",
            " [   0    0    0    0    0    0    0    0    0    0    0    0   27]\n",
            " [   0    0    0    0    0    0    0    0    0    0    1    0  122]\n",
            " [   0    0    0    0    0    0    0    0    0    0    0    0  113]\n",
            " [   0    0    0    0    0    1    0    0    0    0    0    0  265]\n",
            " [   0    0    0    0    0    4    0    3    1    0    0    0  770]\n",
            " [   0    0    0    0    0    0    0    0    0    0    0    0  199]\n",
            " [   0    0    0    1    0    2    0    8    1    0    0    0  556]\n",
            " [   0    0    0    0    0    0    0    1    4    0    0    0 1285]\n",
            " [   0    0    0    0    0    0    0    0    0    0    0    0  229]\n",
            " [   0    0    0    0    0    0    0    0    0    0    1    0  772]\n",
            " [   0    0    0    0    0    0    0    0    0    0    0    0  327]\n",
            " [   0    0    1    0    0    0    0    2    0    0    1    0 1262]]\n"
          ]
        },
        {
          "output_type": "stream",
          "name": "stderr",
          "text": [
            "/usr/local/lib/python3.12/dist-packages/sklearn/metrics/_classification.py:1565: UndefinedMetricWarning: Precision is ill-defined and being set to 0.0 in labels with no predicted samples. Use `zero_division` parameter to control this behavior.\n",
            "  _warn_prf(average, modifier, f\"{metric.capitalize()} is\", len(result))\n",
            "/usr/local/lib/python3.12/dist-packages/sklearn/metrics/_classification.py:1565: UndefinedMetricWarning: Precision is ill-defined and being set to 0.0 in labels with no predicted samples. Use `zero_division` parameter to control this behavior.\n",
            "  _warn_prf(average, modifier, f\"{metric.capitalize()} is\", len(result))\n",
            "/usr/local/lib/python3.12/dist-packages/sklearn/metrics/_classification.py:1565: UndefinedMetricWarning: Precision is ill-defined and being set to 0.0 in labels with no predicted samples. Use `zero_division` parameter to control this behavior.\n",
            "  _warn_prf(average, modifier, f\"{metric.capitalize()} is\", len(result))\n"
          ]
        },
        {
          "output_type": "display_data",
          "data": {
            "text/plain": [
              "<Figure size 640x480 with 2 Axes>"
            ],
            "image/png": "[encoded data removed]"
          },
          "metadata": {}
        },
        {
          "output_type": "execute_result",
          "data": {
            "text/plain": [
              "(0.21405857740585774,\n",
              " 0.030503889153953842,\n",
              " array(['worry', 'worry', 'worry', ..., 'worry', 'worry', 'worry'],\n",
              "       dtype=object))"
            ]
          },
          "metadata": {},
          "execution_count": 22
        }
      ]
    },
    {
      "cell_type": "markdown",
      "source": [
        "---\n",
        "###RESULT EVALUATION WITH SVC:\n",
        "---\n",
        "1. Validation acuuracy = 21%\n",
        "2. Macro-F1 = 0.03\n",
        "3. Confusion matrix shows all \"worry\"\n"
      ],
      "metadata": {
        "id": "7sb74E-xz7xB"
      }
    },
    {
      "cell_type": "markdown",
      "source": [
        "##3.2 Using Naive_Bayes"
      ],
      "metadata": {
        "id": "0cz7fP1N0ZQ6"
      }
    },
    {
      "cell_type": "code",
      "source": [
        "from sklearn.naive_bayes import MultinomialNB\n",
        "#Definig model\n",
        "#--------------------\n",
        "nb_model = MultinomialNB()\n",
        "#Validation evaluation\n",
        "#-----------------------\n",
        "nb_val_acc, nb_val_f1, _ = evaluate_model(nb_model,X_train,y_train,X_valid,y_valid,\"MultinomialNB\")\n",
        "\n",
        "#Final test evaluation\n",
        "#------------------------\n",
        "final_evaluation(nb_model,X_train,y_train,X_test,y_test,\"MultinomialNB\")\n",
        "#"
      ],
      "metadata": {
        "colab": {
          "base_uri": "https://localhost:8080/",
          "height": 1000
        },
        "id": "y4rkXeRVxEde",
        "outputId": "18e7cf2e-2bf8-4922-fb3f-770e7d92acda"
      },
      "execution_count": null,
      "outputs": [
        {
          "output_type": "stream",
          "name": "stdout",
          "text": [
            "\n",
            "---Validation results for MultinomialNB---\n",
            "Accuracy:0.21794442584532978\n",
            "Macro-F1:0.04129340663774416\n",
            "              precision    recall  f1-score   support\n",
            "\n",
            "       anger       0.00      0.00      0.00        17\n",
            "     boredom       0.00      0.00      0.00        27\n",
            "       empty       0.00      0.00      0.00       124\n",
            "  enthusiasm       0.00      0.00      0.00       114\n",
            "         fun       0.00      0.00      0.00       266\n",
            "   happiness       0.50      0.01      0.01       777\n",
            "        hate       0.00      0.00      0.00       198\n",
            "        love       0.80      0.01      0.01       568\n",
            "     neutral       0.22      0.88      0.35      1290\n",
            "      relief       0.00      0.00      0.00       228\n",
            "     sadness       0.50      0.00      0.01       773\n",
            "    surprise       0.00      0.00      0.00       327\n",
            "       worry       0.22      0.13      0.16      1265\n",
            "\n",
            "    accuracy                           0.22      5974\n",
            "   macro avg       0.17      0.08      0.04      5974\n",
            "weighted avg       0.30      0.22      0.11      5974\n",
            "\n",
            "[[   0    0    0    0    0    0    0    0   14    0    0    0    3]\n",
            " [   0    0    0    0    0    0    0    0   26    0    0    0    1]\n",
            " [   0    0    0    0    0    0    0    0  112    0    0    0   12]\n",
            " [   0    0    0    0    0    0    0    0   98    0    0    0   16]\n",
            " [   0    0    0    0    0    1    0    0  237    0    0    0   28]\n",
            " [   0    0    0    0    0    4    0    0  672    0    0    0  101]\n",
            " [   0    0    0    0    0    0    0    0  172    0    0    0   26]\n",
            " [   0    0    0    0    0    1    0    4  510    0    0    0   53]\n",
            " [   0    0    0    0    0    1    0    0 1133    0    1    0  155]\n",
            " [   0    0    0    0    0    0    0    0  200    0    0    0   28]\n",
            " [   0    0    0    0    0    0    0    0  686    0    2    0   85]\n",
            " [   0    0    0    0    0    0    0    1  278    0    0    0   48]\n",
            " [   0    0    0    0    0    1    0    0 1104    0    1    0  159]]\n",
            "\n",
            "=======Final Test Results for MultinomialNB=========\n",
            "Accuracy:0.21556485355648536\n",
            "Macro-F1:0.04079092616639894\n",
            "              precision    recall  f1-score   support\n",
            "\n",
            "       anger       0.00      0.00      0.00        16\n",
            "     boredom       0.00      0.00      0.00        27\n",
            "       empty       0.00      0.00      0.00       123\n",
            "  enthusiasm       0.00      0.00      0.00       113\n",
            "         fun       0.00      0.00      0.00       266\n",
            "   happiness       0.57      0.01      0.01       778\n",
            "        hate       0.00      0.00      0.00       199\n",
            "        love       0.60      0.01      0.02       568\n",
            "     neutral       0.22      0.87      0.35      1290\n",
            "      relief       0.00      0.00      0.00       229\n",
            "     sadness       0.50      0.00      0.00       773\n",
            "    surprise       0.00      0.00      0.00       327\n",
            "       worry       0.20      0.12      0.15      1266\n",
            "\n",
            "    accuracy                           0.22      5975\n",
            "   macro avg       0.16      0.08      0.04      5975\n",
            "weighted avg       0.28      0.22      0.11      5975\n",
            "\n",
            "[[   0    0    0    0    0    0    0    0   15    0    0    0    1]\n",
            " [   0    0    0    0    0    0    0    0   21    0    0    0    6]\n",
            " [   0    0    0    0    0    0    0    0  105    0    1    0   17]\n",
            " [   0    0    0    0    0    0    0    0   99    0    0    0   14]\n",
            " [   0    0    0    0    0    1    0    0  236    0    0    0   29]\n",
            " [   0    0    0    0    0    4    0    2  665    0    0    0  107]\n",
            " [   0    0    0    0    0    0    0    0  174    0    0    0   25]\n",
            " [   0    0    0    0    0    2    0    6  480    0    0    0   80]\n",
            " [   0    0    0    0    0    0    0    0 1125    0    0    0  165]\n",
            " [   0    0    0    0    0    0    0    0  200    0    0    0   29]\n",
            " [   0    0    0    0    0    0    0    0  678    0    1    0   94]\n",
            " [   0    0    0    0    0    0    0    0  276    0    0    0   51]\n",
            " [   0    0    0    0    0    0    0    2 1112    0    0    0  152]]\n"
          ]
        },
        {
          "output_type": "stream",
          "name": "stderr",
          "text": [
            "/usr/local/lib/python3.12/dist-packages/sklearn/metrics/_classification.py:1565: UndefinedMetricWarning: Precision is ill-defined and being set to 0.0 in labels with no predicted samples. Use `zero_division` parameter to control this behavior.\n",
            "  _warn_prf(average, modifier, f\"{metric.capitalize()} is\", len(result))\n",
            "/usr/local/lib/python3.12/dist-packages/sklearn/metrics/_classification.py:1565: UndefinedMetricWarning: Precision is ill-defined and being set to 0.0 in labels with no predicted samples. Use `zero_division` parameter to control this behavior.\n",
            "  _warn_prf(average, modifier, f\"{metric.capitalize()} is\", len(result))\n",
            "/usr/local/lib/python3.12/dist-packages/sklearn/metrics/_classification.py:1565: UndefinedMetricWarning: Precision is ill-defined and being set to 0.0 in labels with no predicted samples. Use `zero_division` parameter to control this behavior.\n",
            "  _warn_prf(average, modifier, f\"{metric.capitalize()} is\", len(result))\n",
            "/usr/local/lib/python3.12/dist-packages/sklearn/metrics/_classification.py:1565: UndefinedMetricWarning: Precision is ill-defined and being set to 0.0 in labels with no predicted samples. Use `zero_division` parameter to control this behavior.\n",
            "  _warn_prf(average, modifier, f\"{metric.capitalize()} is\", len(result))\n",
            "/usr/local/lib/python3.12/dist-packages/sklearn/metrics/_classification.py:1565: UndefinedMetricWarning: Precision is ill-defined and being set to 0.0 in labels with no predicted samples. Use `zero_division` parameter to control this behavior.\n",
            "  _warn_prf(average, modifier, f\"{metric.capitalize()} is\", len(result))\n",
            "/usr/local/lib/python3.12/dist-packages/sklearn/metrics/_classification.py:1565: UndefinedMetricWarning: Precision is ill-defined and being set to 0.0 in labels with no predicted samples. Use `zero_division` parameter to control this behavior.\n",
            "  _warn_prf(average, modifier, f\"{metric.capitalize()} is\", len(result))\n"
          ]
        },
        {
          "output_type": "display_data",
          "data": {
            "text/plain": [
              "<Figure size 640x480 with 2 Axes>"
            ],
            "image/png": "[encoded data removed]"
          },
          "metadata": {}
        },
        {
          "output_type": "execute_result",
          "data": {
            "text/plain": [
              "(0.21556485355648536,\n",
              " 0.04079092616639894,\n",
              " array(['neutral', 'neutral', 'neutral', ..., 'neutral', 'neutral',\n",
              "        'neutral'], dtype='<U10'))"
            ]
          },
          "metadata": {},
          "execution_count": 23
        }
      ]
    },
    {
      "cell_type": "markdown",
      "source": [
        "---\n",
        "###RESULT FOR NAIVE-BAYES:\n",
        "---\n",
        "1. Accuracy =21%\n",
        "2. Macro-F1 = 0.041\n",
        "3. Mostly \"neutral\" predictions"
      ],
      "metadata": {
        "id": "OpRAQ19u1rxf"
      }
    },
    {
      "cell_type": "markdown",
      "source": [
        "#4. Deep Learning based Model"
      ],
      "metadata": {
        "id": "zPv5nE1g2H5q"
      }
    },
    {
      "cell_type": "markdown",
      "source": [
        "##4.a.Using BERT with Hugging face transformers"
      ],
      "metadata": {
        "id": "e4CoH1Dc36PJ"
      }
    },
    {
      "cell_type": "code",
      "source": [
        "!pip install transformers datasets evaluate accelerate -q\n"
      ],
      "metadata": {
        "id": "3CxFQVgQ161O"
      },
      "execution_count": null,
      "outputs": []
    },
    {
      "cell_type": "code",
      "source": [
        "import numpy as np\n",
        "from sklearn.preprocessing import LabelEncoder\n",
        "from datasets import Dataset,DatasetDict"
      ],
      "metadata": {
        "id": "PKpTEn9X3ecS"
      },
      "execution_count": null,
      "outputs": []
    },
    {
      "cell_type": "code",
      "source": [
        "#Encoding labels\n",
        "#-------------------\n",
        "label_encoder = LabelEncoder()\n",
        "y_train_enc = label_encoder.fit_transform(y_train)\n",
        "y_valid_enc = label_encoder.transform(y_valid)\n",
        "y_test_enc = label_encoder.transform(y_test)\n",
        "num_classes = len(label_encoder.classes_)\n",
        "\n",
        "# Convert sparse matrices to dense NumPy arrays for Dataset.from_dict\n",
        "X_train_dense = X_train.toarray()\n",
        "X_valid_dense = X_valid.toarray()\n",
        "X_test_dense = X_test.toarray()\n",
        "\n",
        "\n",
        "#HuggingFace DatasetDict\n",
        "training_ds = Dataset.from_dict({\"text\": X_train_dense, \"label\": y_train_enc})\n",
        "validation_ds = Dataset.from_dict({\"text\": X_valid_dense, \"label\": y_valid_enc})\n",
        "testing_ds = Dataset.from_dict({\"text\": X_test_dense, \"label\": y_test_enc})\n",
        "dataset = DatasetDict({\"train\": training_ds, \"validation\": validation_ds, \"test\": testing_ds})"
      ],
      "metadata": {
        "id": "-1oIPaVk4iK-"
      },
      "execution_count": null,
      "outputs": []
    },
    {
      "cell_type": "code",
      "source": [],
      "metadata": {
        "id": "D8LxpK2g6MZb"
      },
      "execution_count": null,
      "outputs": []
    }
  ]
}