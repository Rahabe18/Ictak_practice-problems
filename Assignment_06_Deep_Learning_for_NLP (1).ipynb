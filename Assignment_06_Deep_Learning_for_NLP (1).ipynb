{
  "nbformat": 4,
  "nbformat_minor": 0,
  "metadata": {
    "colab": {
      "provenance": []
    },
    "kernelspec": {
      "name": "python3",
      "display_name": "Python 3"
    },
    "language_info": {
      "name": "python"
    }
  },
  "cells": [
    {
      "cell_type": "markdown",
      "source": [
        "#$Question$:\n",
        "\n",
        "##Look into twitter text data to predict if the given text has positive or negative sentiment towards a particular brand. The dataset includes twitter text related to Apple and Google products with user sentiment ranked between ‘positive’,‘negative’, ‘neutral’ and ‘no_idea’, sentiments. Create a simple RNN or LSTM based classifiers to classify tweets into the four classes. You can avoid ‘emotion_in_tweet_is_directed_at’ column.\n",
        "---\n",
        "---"
      ],
      "metadata": {
        "id": "cF-WI6Hr1jg-"
      }
    },
    {
      "cell_type": "markdown",
      "metadata": {
        "id": "c1bb8aa4"
      },
      "source": [
        "## 1. Data Loading and Initial Exploration"
      ]
    },
    {
      "cell_type": "code",
      "metadata": {
        "colab": {
          "base_uri": "https://localhost:8080/"
        },
        "id": "e8aaa6e7",
        "outputId": "367749e8-e7cf-4390-c58a-7a0a2fa2c884"
      },
      "source": [
        "# It loads the dataset and performs initial exploration.\n",
        "import pandas as pd\n",
        "import numpy as np\n",
        "import re\n",
        "from sklearn.model_selection import train_test_split\n",
        "from sklearn.preprocessing import LabelEncoder\n",
        "from tensorflow.keras.preprocessing.text import Tokenizer\n",
        "from tensorflow.keras.preprocessing.sequence import pad_sequences\n",
        "from tensorflow.keras.utils import to_categorical\n",
        "from tensorflow.keras.models import Sequential\n",
        "from tensorflow.keras.layers import Embedding, LSTM, Dense, Dropout\n",
        "from sklearn.metrics import classification_report, confusion_matrix\n",
        "import matplotlib.pyplot as plt\n",
        "import seaborn as sns\n",
        "from imblearn.over_sampling import RandomOverSampler\n",
        "from tensorflow.keras.callbacks import EarlyStopping\n",
        "\n",
        "#----------Load the dataset-------------------\n",
        "try:\n",
        "    df = pd.read_csv('/content/judge-1377884607_tweet_product_company.csv', encoding='utf-8')\n",
        "except UnicodeDecodeError:\n",
        "    df = pd.read_csv('/content/judge-1377884607_tweet_product_company.csv', encoding='latin-1')\n",
        "\n",
        "#----------------Display the first few rows--------------\n",
        "print(\"\\n--- First 5 rows of the dataset ---\")\n",
        "print(\"*\"*len(\"--- First 5 rows of the dataset ---\"))\n",
        "print(df.head())\n",
        "\n",
        "#---------------Get dataset information------------------\n",
        "print(\"\\n--- Dataset Info ---\")\n",
        "print(\"-\"*len(\"--- Dataset Info ---\"))\n",
        "print(df.info())\n",
        "print(\"\\n ----Columns are----\")\n",
        "print(\"-\"*len(\"----Columns are----\"))\n",
        "print(df.columns)\n",
        "# Check the distribution of sentiment classes\n",
        "print(\"\\n--- Sentiment Class Distribution ---\")\n",
        "print(\"=\"*len('--- Sentiment Class Distribution ---'))\n",
        "print(df['is_there_an_emotion_directed_at_a_brand_or_product'].value_counts())\n",
        "\n"
      ],
      "execution_count": null,
      "outputs": [
        {
          "output_type": "stream",
          "name": "stdout",
          "text": [
            "\n",
            "--- First 5 rows of the dataset ---\n",
            "***********************************\n",
            "                                          tweet_text  \\\n",
            "0  .@wesley83 I have a 3G iPhone. After 3 hrs twe...   \n",
            "1  @jessedee Know about @fludapp ? Awesome iPad/i...   \n",
            "2  @swonderlin Can not wait for #iPad 2 also. The...   \n",
            "3  @sxsw I hope this year's festival isn't as cra...   \n",
            "4  @sxtxstate great stuff on Fri #SXSW: Marissa M...   \n",
            "\n",
            "  emotion_in_tweet_is_directed_at  \\\n",
            "0                          iPhone   \n",
            "1              iPad or iPhone App   \n",
            "2                            iPad   \n",
            "3              iPad or iPhone App   \n",
            "4                          Google   \n",
            "\n",
            "  is_there_an_emotion_directed_at_a_brand_or_product  \n",
            "0                                   Negative emotion  \n",
            "1                                   Positive emotion  \n",
            "2                                   Positive emotion  \n",
            "3                                   Negative emotion  \n",
            "4                                   Positive emotion  \n",
            "\n",
            "--- Dataset Info ---\n",
            "--------------------\n",
            "<class 'pandas.core.frame.DataFrame'>\n",
            "RangeIndex: 9093 entries, 0 to 9092\n",
            "Data columns (total 3 columns):\n",
            " #   Column                                              Non-Null Count  Dtype \n",
            "---  ------                                              --------------  ----- \n",
            " 0   tweet_text                                          9092 non-null   object\n",
            " 1   emotion_in_tweet_is_directed_at                     3291 non-null   object\n",
            " 2   is_there_an_emotion_directed_at_a_brand_or_product  9093 non-null   object\n",
            "dtypes: object(3)\n",
            "memory usage: 213.2+ KB\n",
            "None\n",
            "\n",
            " ----Columns are----\n",
            "-------------------\n",
            "Index(['tweet_text', 'emotion_in_tweet_is_directed_at',\n",
            "       'is_there_an_emotion_directed_at_a_brand_or_product'],\n",
            "      dtype='object')\n",
            "\n",
            "--- Sentiment Class Distribution ---\n",
            "====================================\n",
            "is_there_an_emotion_directed_at_a_brand_or_product\n",
            "No emotion toward brand or product    5389\n",
            "Positive emotion                      2978\n",
            "Negative emotion                       570\n",
            "I can't tell                           156\n",
            "Name: count, dtype: int64\n"
          ]
        }
      ]
    },
    {
      "cell_type": "code",
      "source": [
        "# Define the mapping for emotions\n",
        "emotion_mapping = {\n",
        "    'Positive emotion': 'Positive',\n",
        "    'Negative emotion': 'Negative',\n",
        "    'No emotion toward brand or product': 'Neutral',\n",
        "    \"I can't tell\": 'no_idea'\n",
        "}\n",
        "\n",
        "# Apply the mapping to the 'is_there_an_emotion_directed_at_a_brand_or_product' column\n",
        "df['sentiment'] = df['is_there_an_emotion_directed_at_a_brand_or_product'].replace(emotion_mapping)\n",
        "\n",
        "# Display the updated DataFrame\n",
        "print(\"\\n--- Updated Dataframe ---\")\n",
        "print(\"*\"*len('--- Updated Dataframe ---'))\n",
        "print(df[['tweet_text', 'sentiment']].head())\n",
        "\n",
        "# Check the distribution of the new sentiment classes\n",
        "print(\"\\n--- New Sentiment Class Distribution ---\")\n",
        "print(\"#\"*len('--- New Sentiment Class Distribution ---'))\n",
        "print(df['sentiment'].value_counts())"
      ],
      "metadata": {
        "colab": {
          "base_uri": "https://localhost:8080/"
        },
        "id": "O_6cNN2fCMvi",
        "outputId": "986c98d9-2fcf-48a3-bf3a-fc1d1cd84c5c"
      },
      "execution_count": null,
      "outputs": [
        {
          "output_type": "stream",
          "name": "stdout",
          "text": [
            "\n",
            "--- Updated Dataframe ---\n",
            "*************************\n",
            "                                          tweet_text sentiment\n",
            "0  .@wesley83 I have a 3G iPhone. After 3 hrs twe...  Negative\n",
            "1  @jessedee Know about @fludapp ? Awesome iPad/i...  Positive\n",
            "2  @swonderlin Can not wait for #iPad 2 also. The...  Positive\n",
            "3  @sxsw I hope this year's festival isn't as cra...  Negative\n",
            "4  @sxtxstate great stuff on Fri #SXSW: Marissa M...  Positive\n",
            "\n",
            "--- New Sentiment Class Distribution ---\n",
            "########################################\n",
            "sentiment\n",
            "Neutral     5389\n",
            "Positive    2978\n",
            "Negative     570\n",
            "no_idea      156\n",
            "Name: count, dtype: int64\n"
          ]
        }
      ]
    },
    {
      "cell_type": "code",
      "source": [
        "if 'emotion_in_tweet_is_directed_at' in df.columns:\n",
        "    df = df.drop('emotion_in_tweet_is_directed_at', axis=1)\n",
        "    print(\"Dropped 'emotion_in_tweet_is_directed_at' column.\")"
      ],
      "metadata": {
        "colab": {
          "base_uri": "https://localhost:8080/"
        },
        "id": "9Lf-FHcBD5pB",
        "outputId": "d9b83a6f-a5af-4098-a66c-808a131bcbdc"
      },
      "execution_count": null,
      "outputs": [
        {
          "output_type": "stream",
          "name": "stdout",
          "text": [
            "Dropped 'emotion_in_tweet_is_directed_at' column.\n"
          ]
        }
      ]
    },
    {
      "cell_type": "code",
      "source": [
        "# Keep only 'tweet_text' and 'sentiment' columns\n",
        "df = df[['tweet_text', 'sentiment']]"
      ],
      "metadata": {
        "id": "M5kJLfjJEMAh"
      },
      "execution_count": null,
      "outputs": []
    },
    {
      "cell_type": "code",
      "source": [
        "df.isnull().sum()"
      ],
      "metadata": {
        "colab": {
          "base_uri": "https://localhost:8080/",
          "height": 147
        },
        "id": "YidPqk11Cw-l",
        "outputId": "64e873f9-ca19-4889-c87c-3596b0d15561"
      },
      "execution_count": null,
      "outputs": [
        {
          "output_type": "execute_result",
          "data": {
            "text/plain": [
              "tweet_text    1\n",
              "sentiment     0\n",
              "dtype: int64"
            ],
            "text/html": [
              "<div>\n",
              "<style scoped>\n",
              "    .dataframe tbody tr th:only-of-type {\n",
              "        vertical-align: middle;\n",
              "    }\n",
              "\n",
              "    .dataframe tbody tr th {\n",
              "        vertical-align: top;\n",
              "    }\n",
              "\n",
              "    .dataframe thead th {\n",
              "        text-align: right;\n",
              "    }\n",
              "</style>\n",
              "<table border=\"1\" class=\"dataframe\">\n",
              "  <thead>\n",
              "    <tr style=\"text-align: right;\">\n",
              "      <th></th>\n",
              "      <th>0</th>\n",
              "    </tr>\n",
              "  </thead>\n",
              "  <tbody>\n",
              "    <tr>\n",
              "      <th>tweet_text</th>\n",
              "      <td>1</td>\n",
              "    </tr>\n",
              "    <tr>\n",
              "      <th>sentiment</th>\n",
              "      <td>0</td>\n",
              "    </tr>\n",
              "  </tbody>\n",
              "</table>\n",
              "</div><br><label><b>dtype:</b> int64</label>"
            ]
          },
          "metadata": {},
          "execution_count": 44
        }
      ]
    },
    {
      "cell_type": "code",
      "source": [
        "df.dropna(inplace=True)"
      ],
      "metadata": {
        "id": "oXtJfIYEC02P"
      },
      "execution_count": null,
      "outputs": []
    },
    {
      "cell_type": "code",
      "source": [
        "import matplotlib.pyplot as plt\n",
        "import seaborn as sns\n",
        "\n",
        "# Calculate the class distribution\n",
        "class_distribution = df['sentiment'].value_counts()\n",
        "\n",
        "# Plotting the class distribution\n",
        "plt.figure(figsize=(8, 5))\n",
        "sns.barplot(x=class_distribution.index, y=class_distribution.values, palette='viridis')\n",
        "plt.title('Sentiment Class Distribution')\n",
        "plt.xlabel('Sentiment Classes')\n",
        "plt.ylabel('Number of Samples')\n",
        "plt.xticks(rotation=45)\n",
        "plt.show()"
      ],
      "metadata": {
        "colab": {
          "base_uri": "https://localhost:8080/",
          "height": 614
        },
        "id": "nVo812l2ONZo",
        "outputId": "2a119b57-650b-4b0e-985c-0a935f75543c"
      },
      "execution_count": null,
      "outputs": [
        {
          "output_type": "stream",
          "name": "stderr",
          "text": [
            "/tmp/ipython-input-47-501717308.py:9: FutureWarning: \n",
            "\n",
            "Passing `palette` without assigning `hue` is deprecated and will be removed in v0.14.0. Assign the `x` variable to `hue` and set `legend=False` for the same effect.\n",
            "\n",
            "  sns.barplot(x=class_distribution.index, y=class_distribution.values, palette='viridis')\n"
          ]
        },
        {
          "output_type": "display_data",
          "data": {
            "text/plain": [
              "<Figure size 800x500 with 1 Axes>"
            ],
            "image/png": "[encoded data removed]"
          },
          "metadata": {}
        }
      ]
    },
    {
      "cell_type": "markdown",
      "source": [
        "##2.Data Pre-processing"
      ],
      "metadata": {
        "id": "cTcxRxDDEsVz"
      }
    },
    {
      "cell_type": "code",
      "source": [
        "# It performs data cleaning, label encoding, tokenization, and padding.\n",
        "\n",
        "# Use the original dataframe directly without filtering 'No emotion toward brand or product'\n",
        "df_processed = df.copy() # Create a copy to avoid modifying the original df\n",
        "\n",
        "# Select relevant columns - Use the original sentiment column as target\n",
        "X = df_processed['tweet_text']\n",
        "y = df_processed['sentiment'].copy() # Create a copy\n",
        "\n",
        "# Handle the single missing tweet_text value\n",
        "X.fillna('', inplace=True)\n",
        "\n",
        "#-----------Text Cleaning Function------------------------------------\n",
        "# clean_text function is already defined in a previous cell\n",
        "\n",
        "def clean_text(text):\n",
        "    text = re.sub(r'http\\S+', '', text)\n",
        "    text = re.sub(r'@[A-Za-z0-9_]+', '', text)\n",
        "    text = re.sub(r'#[A-Za-z0-9_]+', '', text)\n",
        "    text = re.sub(r'[^\\w\\s]', '', text)\n",
        "    text = text.lower()\n",
        "    return text\n",
        "X_cleaned = X.apply(clean_text)\n",
        "\n",
        "print(\"\\n--- Cleaned Tweet Examples ---\")\n",
        "print(X_cleaned.head())\n",
        "\n",
        "#--------------------- Label Encoding for target variable-------------------\n",
        "label_encoder = LabelEncoder()\n",
        "y_encoded = label_encoder.fit_transform(y)\n",
        "y_categorical = to_categorical(y_encoded)\n",
        "\n",
        "print(\"\\n--- Original Labels and Encoded Labels Mapping ---\")\n",
        "for i, label in enumerate(label_encoder.classes_):\n",
        "    print(f\"{label}: {i}\")\n",
        "\n",
        "#------------------------- Tokenization---------------------------------------\n",
        "max_words = 10000 # Maximum number of words to keep, based on word frequency\n",
        "tokenizer = Tokenizer(num_words=max_words, oov_token=\"<unk>\")\n",
        "tokenizer.fit_on_texts(X_cleaned)\n",
        "X_sequences = tokenizer.texts_to_sequences(X_cleaned)\n",
        "\n",
        "#-----------Determine maximum sequence length for padding-----------------------\n",
        "max_sequence_length = max([len(x) for x in X_sequences])\n",
        "print(f\"\\nMaximum sequence length: {max_sequence_length}\")\n",
        "\n",
        "#------------------------- Padding sequences---------------------------\n",
        "X_padded = pad_sequences(X_sequences, maxlen=max_sequence_length, padding='post')\n",
        "\n",
        "print(f\"\\nShape of padded sequences (X_padded): {X_padded.shape}\")\n",
        "print(f\"Shape of one-hot encoded labels (y_categorical): {y_categorical.shape}\")\n",
        "\n",
        "#------------------------- Train-Test Split-------------------------------\n",
        "# Use stratify with the original encoded labels (y_encoded) for 4 classes\n",
        "X_train, X_test, y_train, y_test = train_test_split(X_padded, y_categorical, test_size=0.2, random_state=42, stratify=y_encoded)\n",
        "\n",
        "print(f\"\\nShape of X_train: {X_train.shape}\")\n",
        "print(f\"Shape of X_test: {X_test.shape}\")\n",
        "print(f\"Shape of y_train: {y_train.shape}\")\n",
        "print(f\"Shape of y_test: {y_test.shape}\")"
      ],
      "metadata": {
        "colab": {
          "base_uri": "https://localhost:8080/"
        },
        "id": "vfMCTyQBEqIV",
        "outputId": "e278649c-4af4-4521-d7b0-b3e980b90be2"
      },
      "execution_count": null,
      "outputs": [
        {
          "output_type": "stream",
          "name": "stdout",
          "text": [
            "\n",
            "--- Cleaned Tweet Examples ---\n",
            "0     i have a 3g iphone after 3 hrs tweeting at  i...\n",
            "1     know about   awesome ipadiphone app that youl...\n",
            "2     can not wait for  2 also they should sale the...\n",
            "3     i hope this years festival isnt as crashy as ...\n",
            "4     great stuff on fri  marissa mayer google tim ...\n",
            "Name: tweet_text, dtype: object\n",
            "\n",
            "--- Original Labels and Encoded Labels Mapping ---\n",
            "Negative: 0\n",
            "Neutral: 1\n",
            "Positive: 2\n",
            "no_idea: 3\n",
            "\n",
            "Maximum sequence length: 31\n",
            "\n",
            "Shape of padded sequences (X_padded): (9092, 31)\n",
            "Shape of one-hot encoded labels (y_categorical): (9092, 4)\n",
            "\n",
            "Shape of X_train: (7273, 31)\n",
            "Shape of X_test: (1819, 31)\n",
            "Shape of y_train: (7273, 4)\n",
            "Shape of y_test: (1819, 4)\n"
          ]
        }
      ]
    },
    {
      "cell_type": "markdown",
      "source": [
        "##3.Model Definition"
      ],
      "metadata": {
        "id": "7RV1Vhg9FT_g"
      }
    },
    {
      "cell_type": "code",
      "source": [
        "from tensorflow.keras.models import Sequential\n",
        "from tensorflow.keras.layers import Embedding, LSTM, Dense, Dropout\n",
        "\n",
        "# Model Parameters\n",
        "embedding_dim = 100  # Dimension of the dense embedding\n",
        "lstm_units = 128     # Number of LSTM units\n",
        "num_classes = y_categorical.shape[1]  # Number of sentiment classes\n",
        "\n",
        "# Build the LSTM model\n",
        "model = Sequential()\n",
        "model.add(Embedding(input_dim=max_words, output_dim=embedding_dim, input_length=max_sequence_length))\n",
        "model.add(LSTM(units=lstm_units, dropout=0.2, recurrent_dropout=0.2))\n",
        "model.add(Dense(units=64, activation='relu'))\n",
        "model.add(Dropout(0.3))\n",
        "model.add(Dense(units=num_classes, activation='softmax'))\n",
        "\n",
        "# Compile the model\n",
        "model.compile(optimizer='adam', loss='categorical_crossentropy', metrics=['accuracy'])\n",
        "\n",
        "print(\"\\n--- Model Summary ---\")\n",
        "model.summary()\n"
      ],
      "metadata": {
        "colab": {
          "base_uri": "https://localhost:8080/",
          "height": 372
        },
        "id": "wSyRK_nvFRwR",
        "outputId": "db256e70-9460-4887-c1ed-6696145dc375"
      },
      "execution_count": null,
      "outputs": [
        {
          "output_type": "stream",
          "name": "stdout",
          "text": [
            "\n",
            "--- Model Summary ---\n"
          ]
        },
        {
          "output_type": "stream",
          "name": "stderr",
          "text": [
            "/usr/local/lib/python3.11/dist-packages/keras/src/layers/core/embedding.py:90: UserWarning: Argument `input_length` is deprecated. Just remove it.\n",
            "  warnings.warn(\n"
          ]
        },
        {
          "output_type": "display_data",
          "data": {
            "text/plain": [
              "\u001b[1mModel: \"sequential_1\"\u001b[0m\n"
            ],
            "text/html": [
              "<pre style=\"white-space:pre;overflow-x:auto;line-height:normal;font-family:Menlo,'DejaVu Sans Mono',consolas,'Courier New',monospace\"><span style=\"font-weight: bold\">Model: \"sequential_1\"</span>\n",
              "</pre>\n"
            ]
          },
          "metadata": {}
        },
        {
          "output_type": "display_data",
          "data": {
            "text/plain": [
              "┏━━━━━━━━━━━━━━━━━━━━━━━━━━━━━━━━━┳━━━━━━━━━━━━━━━━━━━━━━━━┳━━━━━━━━━━━━━━━┓\n",
              "┃\u001b[1m \u001b[0m\u001b[1mLayer (type)                   \u001b[0m\u001b[1m \u001b[0m┃\u001b[1m \u001b[0m\u001b[1mOutput Shape          \u001b[0m\u001b[1m \u001b[0m┃\u001b[1m \u001b[0m\u001b[1m      Param #\u001b[0m\u001b[1m \u001b[0m┃\n",
              "┡━━━━━━━━━━━━━━━━━━━━━━━━━━━━━━━━━╇━━━━━━━━━━━━━━━━━━━━━━━━╇━━━━━━━━━━━━━━━┩\n",
              "│ embedding_1 (\u001b[38;5;33mEmbedding\u001b[0m)         │ ?                      │   \u001b[38;5;34m0\u001b[0m (unbuilt) │\n",
              "├─────────────────────────────────┼────────────────────────┼───────────────┤\n",
              "│ lstm_1 (\u001b[38;5;33mLSTM\u001b[0m)                   │ ?                      │   \u001b[38;5;34m0\u001b[0m (unbuilt) │\n",
              "├─────────────────────────────────┼────────────────────────┼───────────────┤\n",
              "│ dense_2 (\u001b[38;5;33mDense\u001b[0m)                 │ ?                      │   \u001b[38;5;34m0\u001b[0m (unbuilt) │\n",
              "├─────────────────────────────────┼────────────────────────┼───────────────┤\n",
              "│ dropout_1 (\u001b[38;5;33mDropout\u001b[0m)             │ ?                      │             \u001b[38;5;34m0\u001b[0m │\n",
              "├─────────────────────────────────┼────────────────────────┼───────────────┤\n",
              "│ dense_3 (\u001b[38;5;33mDense\u001b[0m)                 │ ?                      │   \u001b[38;5;34m0\u001b[0m (unbuilt) │\n",
              "└─────────────────────────────────┴────────────────────────┴───────────────┘\n"
            ],
            "text/html": [
              "<pre style=\"white-space:pre;overflow-x:auto;line-height:normal;font-family:Menlo,'DejaVu Sans Mono',consolas,'Courier New',monospace\">┏━━━━━━━━━━━━━━━━━━━━━━━━━━━━━━━━━┳━━━━━━━━━━━━━━━━━━━━━━━━┳━━━━━━━━━━━━━━━┓\n",
              "┃<span style=\"font-weight: bold\"> Layer (type)                    </span>┃<span style=\"font-weight: bold\"> Output Shape           </span>┃<span style=\"font-weight: bold\">       Param # </span>┃\n",
              "┡━━━━━━━━━━━━━━━━━━━━━━━━━━━━━━━━━╇━━━━━━━━━━━━━━━━━━━━━━━━╇━━━━━━━━━━━━━━━┩\n",
              "│ embedding_1 (<span style=\"color: #0087ff; text-decoration-color: #0087ff\">Embedding</span>)         │ ?                      │   <span style=\"color: #00af00; text-decoration-color: #00af00\">0</span> (unbuilt) │\n",
              "├─────────────────────────────────┼────────────────────────┼───────────────┤\n",
              "│ lstm_1 (<span style=\"color: #0087ff; text-decoration-color: #0087ff\">LSTM</span>)                   │ ?                      │   <span style=\"color: #00af00; text-decoration-color: #00af00\">0</span> (unbuilt) │\n",
              "├─────────────────────────────────┼────────────────────────┼───────────────┤\n",
              "│ dense_2 (<span style=\"color: #0087ff; text-decoration-color: #0087ff\">Dense</span>)                 │ ?                      │   <span style=\"color: #00af00; text-decoration-color: #00af00\">0</span> (unbuilt) │\n",
              "├─────────────────────────────────┼────────────────────────┼───────────────┤\n",
              "│ dropout_1 (<span style=\"color: #0087ff; text-decoration-color: #0087ff\">Dropout</span>)             │ ?                      │             <span style=\"color: #00af00; text-decoration-color: #00af00\">0</span> │\n",
              "├─────────────────────────────────┼────────────────────────┼───────────────┤\n",
              "│ dense_3 (<span style=\"color: #0087ff; text-decoration-color: #0087ff\">Dense</span>)                 │ ?                      │   <span style=\"color: #00af00; text-decoration-color: #00af00\">0</span> (unbuilt) │\n",
              "└─────────────────────────────────┴────────────────────────┴───────────────┘\n",
              "</pre>\n"
            ]
          },
          "metadata": {}
        },
        {
          "output_type": "display_data",
          "data": {
            "text/plain": [
              "\u001b[1m Total params: \u001b[0m\u001b[38;5;34m0\u001b[0m (0.00 B)\n"
            ],
            "text/html": [
              "<pre style=\"white-space:pre;overflow-x:auto;line-height:normal;font-family:Menlo,'DejaVu Sans Mono',consolas,'Courier New',monospace\"><span style=\"font-weight: bold\"> Total params: </span><span style=\"color: #00af00; text-decoration-color: #00af00\">0</span> (0.00 B)\n",
              "</pre>\n"
            ]
          },
          "metadata": {}
        },
        {
          "output_type": "display_data",
          "data": {
            "text/plain": [
              "\u001b[1m Trainable params: \u001b[0m\u001b[38;5;34m0\u001b[0m (0.00 B)\n"
            ],
            "text/html": [
              "<pre style=\"white-space:pre;overflow-x:auto;line-height:normal;font-family:Menlo,'DejaVu Sans Mono',consolas,'Courier New',monospace\"><span style=\"font-weight: bold\"> Trainable params: </span><span style=\"color: #00af00; text-decoration-color: #00af00\">0</span> (0.00 B)\n",
              "</pre>\n"
            ]
          },
          "metadata": {}
        },
        {
          "output_type": "display_data",
          "data": {
            "text/plain": [
              "\u001b[1m Non-trainable params: \u001b[0m\u001b[38;5;34m0\u001b[0m (0.00 B)\n"
            ],
            "text/html": [
              "<pre style=\"white-space:pre;overflow-x:auto;line-height:normal;font-family:Menlo,'DejaVu Sans Mono',consolas,'Courier New',monospace\"><span style=\"font-weight: bold\"> Non-trainable params: </span><span style=\"color: #00af00; text-decoration-color: #00af00\">0</span> (0.00 B)\n",
              "</pre>\n"
            ]
          },
          "metadata": {}
        }
      ]
    },
    {
      "cell_type": "markdown",
      "source": [
        "##4. Model Training"
      ],
      "metadata": {
        "id": "gWVgyFUoFebu"
      }
    },
    {
      "cell_type": "code",
      "source": [
        "# Train the model\n",
        "epochs = 10\n",
        "batch_size = 32\n",
        "\n",
        "print(f\"\\n--- Training the LSTM Model for {epochs} epochs with batch size {batch_size} ---\")\n",
        "history = model.fit(X_train, y_train,\n",
        "                    epochs=epochs,\n",
        "                    batch_size=batch_size,\n",
        "                    validation_split=0.1,  # Use 10% of training data for validation\n",
        "                    verbose=1)\n",
        "\n",
        "print(\"\\n--- Training Complete ---\")\n"
      ],
      "metadata": {
        "colab": {
          "base_uri": "https://localhost:8080/"
        },
        "id": "2JDsn6yBFXxK",
        "outputId": "6351c4d6-f608-44b3-d8ee-2d66281a4f12"
      },
      "execution_count": null,
      "outputs": [
        {
          "output_type": "stream",
          "name": "stdout",
          "text": [
            "\n",
            "--- Training the LSTM Model for 10 epochs with batch size 32 ---\n",
            "Epoch 1/10\n",
            "\u001b[1m205/205\u001b[0m \u001b[32m━━━━━━━━━━━━━━━━━━━━\u001b[0m\u001b[37m\u001b[0m \u001b[1m30s\u001b[0m 116ms/step - accuracy: 0.5390 - loss: 1.0347 - val_accuracy: 0.6044 - val_loss: 0.8910\n",
            "Epoch 2/10\n",
            "\u001b[1m205/205\u001b[0m \u001b[32m━━━━━━━━━━━━━━━━━━━━\u001b[0m\u001b[37m\u001b[0m \u001b[1m24s\u001b[0m 115ms/step - accuracy: 0.6526 - loss: 0.8595 - val_accuracy: 0.6497 - val_loss: 0.8335\n",
            "Epoch 3/10\n",
            "\u001b[1m205/205\u001b[0m \u001b[32m━━━━━━━━━━━━━━━━━━━━\u001b[0m\u001b[37m\u001b[0m \u001b[1m40s\u001b[0m 110ms/step - accuracy: 0.7244 - loss: 0.7430 - val_accuracy: 0.6635 - val_loss: 0.8799\n",
            "Epoch 4/10\n",
            "\u001b[1m205/205\u001b[0m \u001b[32m━━━━━━━━━━━━━━━━━━━━\u001b[0m\u001b[37m\u001b[0m \u001b[1m24s\u001b[0m 119ms/step - accuracy: 0.7684 - loss: 0.6480 - val_accuracy: 0.6758 - val_loss: 0.8741\n",
            "Epoch 5/10\n",
            "\u001b[1m205/205\u001b[0m \u001b[32m━━━━━━━━━━━━━━━━━━━━\u001b[0m\u001b[37m\u001b[0m \u001b[1m39s\u001b[0m 111ms/step - accuracy: 0.7925 - loss: 0.6091 - val_accuracy: 0.6772 - val_loss: 0.8694\n",
            "Epoch 6/10\n",
            "\u001b[1m205/205\u001b[0m \u001b[32m━━━━━━━━━━━━━━━━━━━━\u001b[0m\u001b[37m\u001b[0m \u001b[1m39s\u001b[0m 103ms/step - accuracy: 0.8149 - loss: 0.5426 - val_accuracy: 0.6044 - val_loss: 1.0269\n",
            "Epoch 7/10\n",
            "\u001b[1m205/205\u001b[0m \u001b[32m━━━━━━━━━━━━━━━━━━━━\u001b[0m\u001b[37m\u001b[0m \u001b[1m43s\u001b[0m 114ms/step - accuracy: 0.8228 - loss: 0.5237 - val_accuracy: 0.6731 - val_loss: 0.9536\n",
            "Epoch 8/10\n",
            "\u001b[1m205/205\u001b[0m \u001b[32m━━━━━━━━━━━━━━━━━━━━\u001b[0m\u001b[37m\u001b[0m \u001b[1m41s\u001b[0m 113ms/step - accuracy: 0.8528 - loss: 0.4561 - val_accuracy: 0.6745 - val_loss: 0.9930\n",
            "Epoch 9/10\n",
            "\u001b[1m205/205\u001b[0m \u001b[32m━━━━━━━━━━━━━━━━━━━━\u001b[0m\u001b[37m\u001b[0m \u001b[1m41s\u001b[0m 115ms/step - accuracy: 0.8637 - loss: 0.4162 - val_accuracy: 0.6552 - val_loss: 1.1873\n",
            "Epoch 10/10\n",
            "\u001b[1m205/205\u001b[0m \u001b[32m━━━━━━━━━━━━━━━━━━━━\u001b[0m\u001b[37m\u001b[0m \u001b[1m39s\u001b[0m 105ms/step - accuracy: 0.8757 - loss: 0.3921 - val_accuracy: 0.6538 - val_loss: 1.2781\n",
            "\n",
            "--- Training Complete ---\n"
          ]
        }
      ]
    },
    {
      "cell_type": "markdown",
      "source": [
        "##5.Model Evaluation"
      ],
      "metadata": {
        "id": "WFyIqdxkHh9Q"
      }
    },
    {
      "cell_type": "code",
      "source": [
        "from sklearn.metrics import classification_report, confusion_matrix\n",
        "import matplotlib.pyplot as plt\n",
        "import seaborn as sns\n",
        "\n",
        "# Evaluate the model on the test set\n",
        "print(\"\\n--- Evaluating Model on Test Set ---\")\n",
        "loss, accuracy = model.evaluate(X_test, y_test, verbose=0)\n",
        "print(f\"Test Loss: {loss:.4f}\")\n",
        "print(f\"Test Accuracy: {accuracy:.4f}\")\n",
        "\n",
        "# Make predictions\n",
        "y_pred_probs = model.predict(X_test)\n",
        "y_pred = np.argmax(y_pred_probs, axis=1)\n",
        "y_true = np.argmax(y_test, axis=1)\n",
        "\n",
        "# Classification Report\n",
        "print(\"\\n--- Classification Report ---\")\n",
        "print(classification_report(y_true, y_pred, target_names=label_encoder.classes_))\n",
        "\n",
        "# Confusion Matrix\n",
        "print(\"\\n--- Confusion Matrix ---\")\n",
        "cm = confusion_matrix(y_true, y_pred)\n",
        "print(cm)\n",
        "\n",
        "# Plot Confusion Matrix\n",
        "plt.figure(figsize=(7, 5))\n",
        "sns.heatmap(cm, annot=True, fmt='d', cmap='Blues', xticklabels=label_encoder.classes_, yticklabels=label_encoder.classes_)\n",
        "plt.title('Confusion Matrix')\n",
        "plt.xlabel('Predicted Label')\n",
        "plt.ylabel('True Label')\n",
        "plt.show()\n"
      ],
      "metadata": {
        "colab": {
          "base_uri": "https://localhost:8080/",
          "height": 904
        },
        "id": "VkE9ROVJFiL9",
        "outputId": "ce561bbe-ed10-4e22-bc39-a6fcc62f9d10"
      },
      "execution_count": null,
      "outputs": [
        {
          "output_type": "stream",
          "name": "stdout",
          "text": [
            "\n",
            "--- Evaluating Model on Test Set ---\n",
            "Test Loss: 0.3986\n",
            "Test Accuracy: 0.8622\n",
            "\u001b[1m135/135\u001b[0m \u001b[32m━━━━━━━━━━━━━━━━━━━━\u001b[0m\u001b[37m\u001b[0m \u001b[1m2s\u001b[0m 16ms/step\n",
            "\n",
            "--- Classification Report ---\n",
            "              precision    recall  f1-score   support\n",
            "\n",
            "    Negative       0.94      1.00      0.97      1078\n",
            "     Neutral       0.79      0.65      0.72      1077\n",
            "    Positive       0.74      0.81      0.77      1078\n",
            "     no_idea       0.97      0.99      0.98      1078\n",
            "\n",
            "    accuracy                           0.86      4311\n",
            "   macro avg       0.86      0.86      0.86      4311\n",
            "weighted avg       0.86      0.86      0.86      4311\n",
            "\n",
            "\n",
            "--- Confusion Matrix ---\n",
            "[[1076    0    0    2]\n",
            " [  51  704  303   19]\n",
            " [  11  186  868   13]\n",
            " [   9    0    0 1069]]\n"
          ]
        },
        {
          "output_type": "display_data",
          "data": {
            "text/plain": [
              "<Figure size 700x500 with 2 Axes>"
            ],
            "image/png": "[encoded data removed]"
          },
          "metadata": {}
        }
      ]
    },
    {
      "cell_type": "code",
      "source": [
        "# Example of predicting sentiment for new tweets\n",
        "new_tweets = [\n",
        "    \"I love my new iPhone, it's amazing!\",\n",
        "    \"Google's new social network is a disaster.\",\n",
        "    \"The iPad 2 is pretty good.\",\n",
        "    \"This product is neither good nor bad.\"\n",
        "]\n",
        "\n",
        "# Clean the new tweets\n",
        "new_tweets_cleaned = [clean_text(tweet) for tweet in new_tweets]\n",
        "\n",
        "# Convert new tweets to sequences\n",
        "new_sequences = tokenizer.texts_to_sequences(new_tweets_cleaned)\n",
        "\n",
        "# Pad the sequences\n",
        "new_padded = pad_sequences(new_sequences, maxlen=max_sequence_length, padding='post')\n",
        "\n",
        "# Predict sentiment\n",
        "new_predictions_probs = model.predict(new_padded)\n",
        "new_predictions = np.argmax(new_predictions_probs, axis=1)\n",
        "\n",
        "print(\"\\n--- Predictions for New Tweets ---\")\n",
        "for i, tweet in enumerate(new_tweets):\n",
        "    predicted_sentiment = label_encoder.inverse_transform([new_predictions[i]])[0]\n",
        "    print(f\"Tweet: '{tweet}'\")\n",
        "    print(f\"Predicted Sentiment: {predicted_sentiment}\\n\")\n"
      ],
      "metadata": {
        "colab": {
          "base_uri": "https://localhost:8080/"
        },
        "id": "8BoHAK8NfgzA",
        "outputId": "43f6f9e8-6570-4528-b884-1f397ab295e8"
      },
      "execution_count": null,
      "outputs": [
        {
          "output_type": "stream",
          "name": "stdout",
          "text": [
            "\u001b[1m1/1\u001b[0m \u001b[32m━━━━━━━━━━━━━━━━━━━━\u001b[0m\u001b[37m\u001b[0m \u001b[1m0s\u001b[0m 153ms/step\n",
            "\n",
            "--- Predictions for New Tweets ---\n",
            "Tweet: 'I love my new iPhone, it's amazing!'\n",
            "Predicted Sentiment: Positive\n",
            "\n",
            "Tweet: 'Google's new social network is a disaster.'\n",
            "Predicted Sentiment: Neutral\n",
            "\n",
            "Tweet: 'The iPad 2 is pretty good.'\n",
            "Predicted Sentiment: Positive\n",
            "\n",
            "Tweet: 'This product is neither good nor bad.'\n",
            "Predicted Sentiment: no_idea\n",
            "\n"
          ]
        }
      ]
    },
    {
      "cell_type": "markdown",
      "source": [
        "##OVERSAMPLING TO AVOID DATA UNBALANCING"
      ],
      "metadata": {
        "id": "yRC0Ja-Ypihs"
      }
    },
    {
      "cell_type": "code",
      "source": [
        "# Oversample after padding and encoding but before train/test split\n",
        "from imblearn.over_sampling import RandomOverSampler\n",
        "from tensorflow.keras.utils import to_categorical\n",
        "from sklearn.model_selection import train_test_split\n",
        "\n",
        "\n",
        "ros = RandomOverSampler(random_state=42)\n",
        "X_ros, y_ros = ros.fit_resample(X_padded, y_encoded)\n",
        "\n",
        "# One-hot encode the new oversampled labels for Keras\n",
        "y_ros_categorical = to_categorical(y_ros)\n",
        "\n",
        "# Split into train and test sets\n",
        "X_train, X_test, y_train, y_test = train_test_split(\n",
        "    X_ros, y_ros_categorical, test_size=0.2, random_state=42, stratify=y_ros\n",
        ")\n",
        "\n",
        "# (Re)Define and train your LSTM model\n",
        "from tensorflow.keras.models import Sequential\n",
        "from tensorflow.keras.layers import Embedding, LSTM, Dense, Dropout\n",
        "\n",
        "embedding_dim = 100\n",
        "lstm_units = 128\n",
        "num_classes = y_ros_categorical.shape[1]\n",
        "\n",
        "model = Sequential()\n",
        "model.add(Embedding(input_dim=10000, output_dim=embedding_dim, input_length=X_train.shape[1]))\n",
        "model.add(LSTM(units=lstm_units, dropout=0.2, recurrent_dropout=0.2))\n",
        "model.add(Dense(units=64, activation='relu'))\n",
        "model.add(Dropout(0.3))\n",
        "model.add(Dense(units=num_classes, activation='softmax'))\n",
        "\n",
        "model.compile(optimizer='adam', loss='categorical_crossentropy', metrics=['accuracy'])\n",
        "\n",
        "# Train the model\n",
        "history = model.fit(\n",
        "    X_train, y_train,\n",
        "    epochs=10,\n",
        "    batch_size=32,\n",
        "    validation_split=0.1,\n",
        "    verbose=1\n",
        ")\n",
        "\n",
        "# Evaluate the model\n",
        "from sklearn.metrics import classification_report, confusion_matrix\n",
        "import numpy as np\n",
        "import matplotlib.pyplot as plt\n",
        "import seaborn as sns\n",
        "\n",
        "loss, accuracy = model.evaluate(X_test, y_test, verbose=0)\n",
        "print(f\"Test Loss: {loss:.4f}\")\n",
        "print(f\"Test Accuracy: {accuracy:.4f}\")\n",
        "\n",
        "# Get predictions and evaluate metrics\n",
        "y_pred_probs = model.predict(X_test)\n",
        "y_pred = np.argmax(y_pred_probs, axis=1)\n",
        "y_true = np.argmax(y_test, axis=1)\n",
        "\n",
        "print(\"\\n--- Classification Report ---\")\n",
        "print(classification_report(y_true, y_pred, target_names=label_encoder.classes_))\n",
        "\n",
        "print(\"\\n--- Confusion Matrix ---\")\n",
        "cm = confusion_matrix(y_true, y_pred)\n",
        "print(cm)\n",
        "\n",
        "plt.figure(figsize=(8, 6))\n",
        "sns.heatmap(cm, annot=True, fmt='d', cmap='Blues',\n",
        "            xticklabels=label_encoder.classes_,\n",
        "            yticklabels=label_encoder.classes_)\n",
        "plt.title('Confusion Matrix')\n",
        "plt.xlabel('Predicted Label')\n",
        "plt.ylabel('True Label')\n",
        "plt.show()\n",
        "\n",
        "# 5. Predict sentiment of new tweets\n",
        "new_tweets = [\n",
        "    \"I love my new iPhone, it's amazing!\",\n",
        "    \"Google's new social network is a disaster.\",\n",
        "    \"The iPad 2 is pretty good.\",\n",
        "    \"This product is neither good nor bad.\"\n",
        "]\n",
        "new_tweets_cleaned = [clean_text(tweet) for tweet in new_tweets]\n",
        "new_sequences = tokenizer.texts_to_sequences(new_tweets_cleaned)\n",
        "new_padded = pad_sequences(new_sequences, maxlen=X_train.shape[1], padding='post')\n",
        "new_predictions_probs = model.predict(new_padded)\n",
        "new_predictions = np.argmax(new_predictions_probs, axis=1)\n",
        "\n",
        "print(\"\\n--- Predictions for New Tweets ---\")\n",
        "for i, tweet in enumerate(new_tweets):\n",
        "    predicted_sentiment = label_encoder.inverse_transform([new_predictions[i]])[0]\n",
        "    print(f\"Tweet: '{tweet}'\")\n",
        "    print(f\"Predicted Sentiment: {predicted_sentiment}\\n\")\n"
      ],
      "metadata": {
        "colab": {
          "base_uri": "https://localhost:8080/",
          "height": 1000
        },
        "id": "kqB43vRfkD9X",
        "outputId": "eb1c469c-d1ad-43d4-8038-01076828cbc7"
      },
      "execution_count": null,
      "outputs": [
        {
          "output_type": "stream",
          "name": "stderr",
          "text": [
            "/usr/local/lib/python3.11/dist-packages/keras/src/layers/core/embedding.py:90: UserWarning: Argument `input_length` is deprecated. Just remove it.\n",
            "  warnings.warn(\n"
          ]
        },
        {
          "output_type": "stream",
          "name": "stdout",
          "text": [
            "Epoch 1/10\n",
            "\u001b[1m485/485\u001b[0m \u001b[32m━━━━━━━━━━━━━━━━━━━━\u001b[0m\u001b[37m\u001b[0m \u001b[1m66s\u001b[0m 117ms/step - accuracy: 0.3703 - loss: 1.2430 - val_accuracy: 0.7183 - val_loss: 0.5699\n",
            "Epoch 2/10\n",
            "\u001b[1m485/485\u001b[0m \u001b[32m━━━━━━━━━━━━━━━━━━━━\u001b[0m\u001b[37m\u001b[0m \u001b[1m81s\u001b[0m 115ms/step - accuracy: 0.6970 - loss: 0.5812 - val_accuracy: 0.7374 - val_loss: 0.5109\n",
            "Epoch 3/10\n",
            "\u001b[1m485/485\u001b[0m \u001b[32m━━━━━━━━━━━━━━━━━━━━\u001b[0m\u001b[37m\u001b[0m \u001b[1m82s\u001b[0m 116ms/step - accuracy: 0.7236 - loss: 0.4842 - val_accuracy: 0.7084 - val_loss: 0.4877\n",
            "Epoch 4/10\n",
            "\u001b[1m485/485\u001b[0m \u001b[32m━━━━━━━━━━━━━━━━━━━━\u001b[0m\u001b[37m\u001b[0m \u001b[1m82s\u001b[0m 115ms/step - accuracy: 0.7314 - loss: 0.4528 - val_accuracy: 0.7699 - val_loss: 0.4282\n",
            "Epoch 5/10\n",
            "\u001b[1m485/485\u001b[0m \u001b[32m━━━━━━━━━━━━━━━━━━━━\u001b[0m\u001b[37m\u001b[0m \u001b[1m82s\u001b[0m 116ms/step - accuracy: 0.7507 - loss: 0.4309 - val_accuracy: 0.7623 - val_loss: 0.4466\n",
            "Epoch 6/10\n",
            "\u001b[1m485/485\u001b[0m \u001b[32m━━━━━━━━━━━━━━━━━━━━\u001b[0m\u001b[37m\u001b[0m \u001b[1m83s\u001b[0m 117ms/step - accuracy: 0.7694 - loss: 0.4282 - val_accuracy: 0.8330 - val_loss: 0.4006\n",
            "Epoch 7/10\n",
            "\u001b[1m485/485\u001b[0m \u001b[32m━━━━━━━━━━━━━━━━━━━━\u001b[0m\u001b[37m\u001b[0m \u001b[1m80s\u001b[0m 113ms/step - accuracy: 0.8605 - loss: 0.3513 - val_accuracy: 0.8423 - val_loss: 0.3957\n",
            "Epoch 8/10\n",
            "\u001b[1m485/485\u001b[0m \u001b[32m━━━━━━━━━━━━━━━━━━━━\u001b[0m\u001b[37m\u001b[0m \u001b[1m84s\u001b[0m 118ms/step - accuracy: 0.9108 - loss: 0.2476 - val_accuracy: 0.8620 - val_loss: 0.3918\n",
            "Epoch 9/10\n",
            "\u001b[1m485/485\u001b[0m \u001b[32m━━━━━━━━━━━━━━━━━━━━\u001b[0m\u001b[37m\u001b[0m \u001b[1m82s\u001b[0m 118ms/step - accuracy: 0.9276 - loss: 0.2081 - val_accuracy: 0.8684 - val_loss: 0.3520\n",
            "Epoch 10/10\n",
            "\u001b[1m485/485\u001b[0m \u001b[32m━━━━━━━━━━━━━━━━━━━━\u001b[0m\u001b[37m\u001b[0m \u001b[1m82s\u001b[0m 117ms/step - accuracy: 0.9396 - loss: 0.1735 - val_accuracy: 0.8696 - val_loss: 0.3878\n",
            "Test Loss: 0.3986\n",
            "Test Accuracy: 0.8622\n",
            "\u001b[1m135/135\u001b[0m \u001b[32m━━━━━━━━━━━━━━━━━━━━\u001b[0m\u001b[37m\u001b[0m \u001b[1m4s\u001b[0m 25ms/step\n",
            "\n",
            "--- Classification Report ---\n",
            "              precision    recall  f1-score   support\n",
            "\n",
            "    Negative       0.94      1.00      0.97      1078\n",
            "     Neutral       0.79      0.65      0.72      1077\n",
            "    Positive       0.74      0.81      0.77      1078\n",
            "     no_idea       0.97      0.99      0.98      1078\n",
            "\n",
            "    accuracy                           0.86      4311\n",
            "   macro avg       0.86      0.86      0.86      4311\n",
            "weighted avg       0.86      0.86      0.86      4311\n",
            "\n",
            "\n",
            "--- Confusion Matrix ---\n",
            "[[1076    0    0    2]\n",
            " [  51  704  303   19]\n",
            " [  11  186  868   13]\n",
            " [   9    0    0 1069]]\n"
          ]
        },
        {
          "output_type": "display_data",
          "data": {
            "text/plain": [
              "<Figure size 800x600 with 2 Axes>"
            ],
            "image/png": "[encoded data removed]"
          },
          "metadata": {}
        },
        {
          "output_type": "stream",
          "name": "stdout",
          "text": [
            "\u001b[1m1/1\u001b[0m \u001b[32m━━━━━━━━━━━━━━━━━━━━\u001b[0m\u001b[37m\u001b[0m \u001b[1m0s\u001b[0m 53ms/step\n",
            "\n",
            "--- Predictions for New Tweets ---\n",
            "Tweet: 'I love my new iPhone, it's amazing!'\n",
            "Predicted Sentiment: Positive\n",
            "\n",
            "Tweet: 'Google's new social network is a disaster.'\n",
            "Predicted Sentiment: Neutral\n",
            "\n",
            "Tweet: 'The iPad 2 is pretty good.'\n",
            "Predicted Sentiment: Positive\n",
            "\n",
            "Tweet: 'This product is neither good nor bad.'\n",
            "Predicted Sentiment: no_idea\n",
            "\n"
          ]
        }
      ]
    },
    {
      "cell_type": "code",
      "source": [],
      "metadata": {
        "id": "s9yaBFBLkcX1"
      },
      "execution_count": null,
      "outputs": []
    }
  ]
}